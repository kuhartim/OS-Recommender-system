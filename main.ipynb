{
 "cells": [
  {
   "attachments": {},
   "cell_type": "markdown",
   "metadata": {},
   "source": [
    "# OS Seminarska naloga - Tim Kuhar, 63200163"
   ]
  },
  {
   "attachments": {},
   "cell_type": "markdown",
   "metadata": {},
   "source": [
    "## Knjižnice"
   ]
  },
  {
   "cell_type": "code",
   "execution_count": 211,
   "metadata": {},
   "outputs": [],
   "source": [
    "import pandas as pd\n",
    "import datetime as dt\n",
    "import numpy as np\n",
    "import random\n",
    "import math\n",
    "from collections import defaultdict\n",
    "import itertools\n",
    "from sklearn.metrics.pairwise import cosine_similarity"
   ]
  },
  {
   "attachments": {},
   "cell_type": "markdown",
   "metadata": {},
   "source": [
    "## Branje ocen (6)"
   ]
  },
  {
   "cell_type": "code",
   "execution_count": 212,
   "metadata": {},
   "outputs": [],
   "source": [
    "class UserItemData:\n",
    "\n",
    "    def __init__(self, path : str, start_date : str | None = None, end_date : str | None = None, min_ratings : int = 0):\n",
    "        self.path = path\n",
    "\n",
    "        # Formatiranje datuma iz formata DD.MM.YYYY v format YYYY-MM-DD\n",
    "        self.start_date = \"-\".join([(x if len(x) > 1 else f\"0{x}\") for x in start_date.split(\".\")[::-1]]) if start_date else None\n",
    "        self.end_date = \"-\".join([(x if len(x) > 1 else f\"0{x}\") for x in end_date.split(\".\")[::-1]]) if end_date else None\n",
    "\n",
    "        self.min_ratings = min_ratings\n",
    "\n",
    "        self.ratings = self._read_data()\n",
    "\n",
    "    def _read_data(self):\n",
    "        df = pd.read_csv(self.path, sep='\\t')\n",
    "        \n",
    "        # Izdelava stolpca date iz stolpcev date_year, date_month in date_day\n",
    "        date_numbers = df.date_year * 10000 + df.date_month * 100 + df.date_day\n",
    "        df[\"date\"] = pd.to_datetime(date_numbers, format=\"%Y%m%d\")\n",
    "\n",
    "        if self.start_date:\n",
    "            df = df[(df['date'] >= self.start_date)]\n",
    "        \n",
    "        if self.end_date:\n",
    "            df = df[df['date'] < self.end_date]\n",
    "\n",
    "        if self.min_ratings:\n",
    "            df = df.groupby('movieID').filter(lambda x: len(x) >= self.min_ratings)\n",
    "        \n",
    "        return df\n",
    "\n",
    "    def nratings(self):\n",
    "        return len(self.ratings)\n"
   ]
  },
  {
   "cell_type": "code",
   "execution_count": 213,
   "metadata": {},
   "outputs": [
    {
     "name": "stdout",
     "output_type": "stream",
     "text": [
      "855598\n",
      "73584\n"
     ]
    }
   ],
   "source": [
    "# test\n",
    "uim = UserItemData('data/user_ratedmovies.dat')\n",
    "print(uim.nratings())\n",
    "\n",
    "uim = UserItemData('data/user_ratedmovies.dat', start_date = '12.1.2007', end_date='16.2.2008', min_ratings=100)\n",
    "print(uim.nratings())"
   ]
  },
  {
   "attachments": {},
   "cell_type": "markdown",
   "metadata": {},
   "source": [
    "## Branje filmov (6) "
   ]
  },
  {
   "cell_type": "code",
   "execution_count": 214,
   "metadata": {},
   "outputs": [],
   "source": [
    "class MovieData:\n",
    "\n",
    "    def __init__(self, path : str):\n",
    "        self.path = path\n",
    "        self.movies = self._read_data()\n",
    "\n",
    "    def _read_data(self):\n",
    "        df = pd.read_csv(self.path, sep='\\t', encoding='ISO-8859-1')\n",
    "        return df\n",
    "\n",
    "    def get_title(self, movieID : int):\n",
    "        movies = self.movies\n",
    "        return movies[movies.id == movieID].title.values[0]"
   ]
  },
  {
   "cell_type": "code",
   "execution_count": 215,
   "metadata": {},
   "outputs": [
    {
     "name": "stdout",
     "output_type": "stream",
     "text": [
      "Toy story\n"
     ]
    }
   ],
   "source": [
    "# test\n",
    "md = MovieData('data/movies.dat')\n",
    "print(md.get_title(1))"
   ]
  },
  {
   "attachments": {},
   "cell_type": "markdown",
   "metadata": {},
   "source": [
    "## Naključni prediktor (6) "
   ]
  },
  {
   "cell_type": "code",
   "execution_count": 216,
   "metadata": {},
   "outputs": [],
   "source": [
    "class RandomPredictor:\n",
    "\n",
    "    def __init__(self, min : int, max : int):\n",
    "        self.min = min\n",
    "        self.max = max\n",
    "        self.data = None\n",
    "\n",
    "    def fit(self, X : UserItemData):\n",
    "        self.data = X\n",
    "\n",
    "    def predict(self, user_id : int):\n",
    "        # 65133 je število vseh filmov, tega podatka nismo dobili v prediktor zato sem ga moral preveriti\n",
    "        return {(i + 1): random.randint(self.min, self.max) for i in range(65133)}"
   ]
  },
  {
   "cell_type": "code",
   "execution_count": 217,
   "metadata": {},
   "outputs": [
    {
     "name": "stdout",
     "output_type": "stream",
     "text": [
      "<class 'dict'>\n",
      "Film: Toy story, ocena: 4\n",
      "Film: Grumpy Old Men, ocena: 4\n",
      "Film: Money Train, ocena: 2\n",
      "Film: The Usual Suspects, ocena: 3\n",
      "Film: City Hall, ocena: 5\n"
     ]
    }
   ],
   "source": [
    "# test\n",
    "md = MovieData('data/movies.dat')\n",
    "uim = UserItemData('data/user_ratedmovies.dat')\n",
    "rp = RandomPredictor(1, 5)\n",
    "rp.fit(uim)\n",
    "pred = rp.predict(78)\n",
    "print(type(pred))\n",
    "items = [1, 3, 20, 50, 100]\n",
    "for item in items:\n",
    "    print(\"Film: {}, ocena: {}\".format(md.get_title(item), pred[item]))"
   ]
  },
  {
   "attachments": {},
   "cell_type": "markdown",
   "metadata": {},
   "source": [
    "## Priporočanje (6) "
   ]
  },
  {
   "cell_type": "code",
   "execution_count": 218,
   "metadata": {},
   "outputs": [],
   "source": [
    "class Recommender:\n",
    "    def __init__(self, predictor):\n",
    "        self.predictor = predictor\n",
    "\n",
    "    def fit(self, X : UserItemData):\n",
    "        self.predictor.fit(X)\n",
    "\n",
    "    def recommend(self, user_id : int, n : int = 10, rec_seen : bool = True):\n",
    "        prediction = self.predictor.predict(user_id)\n",
    "        prediction = sorted(prediction.items(), key=lambda x: x[1], reverse=True)\n",
    "\n",
    "        if not rec_seen:\n",
    "            ratings = self.predictor.data.ratings\n",
    "            seen_movies = ratings[ratings.userID == user_id].movieID.values\n",
    "            prediction = [x for x in prediction if x[1] not in seen_movies]\n",
    "\n",
    "        return prediction[:n]\n",
    "            "
   ]
  },
  {
   "cell_type": "code",
   "execution_count": 219,
   "metadata": {},
   "outputs": [
    {
     "name": "stdout",
     "output_type": "stream",
     "text": [
      "Film: Father of the Bride Part II, ocena: 5\n",
      "Film: Sabrina, ocena: 5\n",
      "Film: Tom and Huck, ocena: 5\n",
      "Film: Sudden Death, ocena: 5\n",
      "Film: Casino, ocena: 5\n"
     ]
    }
   ],
   "source": [
    "md = MovieData('data/movies.dat')\n",
    "uim = UserItemData('data/user_ratedmovies.dat')\n",
    "rp = RandomPredictor(1, 5)\n",
    "rec = Recommender(rp)\n",
    "rec.fit(uim)\n",
    "rec_items = rec.recommend(78, n=5, rec_seen=False)\n",
    "for idmovie, val in rec_items:\n",
    "    print(\"Film: {}, ocena: {}\".format(md.get_title(idmovie), val))  "
   ]
  },
  {
   "attachments": {},
   "cell_type": "markdown",
   "metadata": {},
   "source": [
    "## Napovedovanje s povprečjem (6) "
   ]
  },
  {
   "cell_type": "code",
   "execution_count": 220,
   "metadata": {},
   "outputs": [],
   "source": [
    "class AveragePredictor:\n",
    "\n",
    "    def __init__(self, b : int):\n",
    "        if b < 0:\n",
    "            raise ValueError(\"'b' must be equal to or greater than 0\")\n",
    "        self.b = b\n",
    "        self.data = None\n",
    "        self.predictions = None\n",
    "\n",
    "    def fit(self, X : UserItemData):\n",
    "        self.data = X\n",
    "        ratings = X.ratings\n",
    "        '''  \n",
    "            vs je vsota vseh ocen za ta film,\n",
    "            n je število ocen, ki jih je ta film dobil,\n",
    "            g_avg je povprečje čez vse filme,\n",
    "            b je parameter formule za povprečje. Če je b=0, gre za navadno povprečje.\n",
    "        '''\n",
    "        # movies_ids = ratings[\"movieID\"].unique()\n",
    "        # vs = [ratings[ratings[\"movieID\"] == movie_id][\"rating\"].sum() for movie_id in movies_ids]\n",
    "        # b = self.b\n",
    "        # g_avg = ratings[\"rating\"].mean()\n",
    "        # n = [len(ratings[ratings[\"movieID\"] == movie_id]) for movie_id in movies_ids]\n",
    "        # avg = (vs + b * g_avg) / (n + b)\n",
    "\n",
    "        #                   movie_id  (|-----------------------vs---------------------------| + |--b--| * |--------g_avg---------|) / (|--------------------n-------------------|) + |--b--|)\n",
    "        self.predictions = {movie_id: (ratings[ratings[\"movieID\"] == movie_id][\"rating\"].sum() + self.b * ratings[\"rating\"].mean()) / (len(ratings[ratings[\"movieID\"] == movie_id]) + self.b) for movie_id in ratings[\"movieID\"].unique()}\n",
    "\n",
    "    def predict(self, user_id : int):\n",
    "        return self.predictions"
   ]
  },
  {
   "cell_type": "code",
   "execution_count": 221,
   "metadata": {},
   "outputs": [
    {
     "name": "stdout",
     "output_type": "stream",
     "text": [
      "Film: Brother Minister: The Assassination of Malcolm X, ocena: 5.0\n",
      "Film: Synthetic Pleasures, ocena: 5.0\n",
      "Film: Adam & Steve, ocena: 5.0\n",
      "Film: Gabbeh, ocena: 5.0\n",
      "Film: Eve and the Fire Horse, ocena: 5.0\n"
     ]
    }
   ],
   "source": [
    "# test\n",
    "md = MovieData('data/movies.dat')\n",
    "uim = UserItemData('data/user_ratedmovies.dat')\n",
    "ap = AveragePredictor(0)\n",
    "rec = Recommender(ap)\n",
    "rec.fit(uim)\n",
    "rec_items = rec.recommend(78, n=5, rec_seen=False)\n",
    "for idmovie, val in rec_items:\n",
    "    print(\"Film: {}, ocena: {}\".format(md.get_title(idmovie), val))  "
   ]
  },
  {
   "cell_type": "code",
   "execution_count": 222,
   "metadata": {},
   "outputs": [
    {
     "name": "stdout",
     "output_type": "stream",
     "text": [
      "Film: The Shawshank Redemption, ocena: 4.305187875177615\n",
      "Film: The Godfather, ocena: 4.262394259034606\n",
      "Film: The Usual Suspects, ocena: 4.225944245560473\n",
      "Film: Fight Club, ocena: 4.199670479562388\n",
      "Film: Pulp Fiction, ocena: 4.189550712063961\n"
     ]
    }
   ],
   "source": [
    "# test\n",
    "md = MovieData('data/movies.dat')\n",
    "uim = UserItemData('data/user_ratedmovies.dat')\n",
    "ap = AveragePredictor(100)\n",
    "rec = Recommender(ap)\n",
    "rec.fit(uim)\n",
    "rec_items = rec.recommend(78, n=5, rec_seen=False)\n",
    "for idmovie, val in rec_items:\n",
    "    print(\"Film: {}, ocena: {}\".format(md.get_title(idmovie), val)) "
   ]
  },
  {
   "attachments": {},
   "cell_type": "markdown",
   "metadata": {},
   "source": [
    "## Priporočanje najbolj gledanih filmov (6) "
   ]
  },
  {
   "cell_type": "code",
   "execution_count": 223,
   "metadata": {},
   "outputs": [],
   "source": [
    "class ViewsPredictor:\n",
    "\n",
    "    def __init__(self):\n",
    "        self.data = None\n",
    "        self.predictions = None\n",
    "\n",
    "    def fit(self, X : UserItemData):\n",
    "        self.data = X\n",
    "        ratings = X.ratings\n",
    "        self.predictions = { x[0]: len(x[1]) for x in ratings.groupby('movieID')}\n",
    "\n",
    "    def predict(self, user_id : int):\n",
    "        return self.predictions"
   ]
  },
  {
   "cell_type": "code",
   "execution_count": 224,
   "metadata": {},
   "outputs": [
    {
     "name": "stdout",
     "output_type": "stream",
     "text": [
      "Film: The Matrix, ocena: 1670\n",
      "Film: The Lord of the Rings: The Fellowship of the Ring, ocena: 1576\n",
      "Film: Forrest Gump, ocena: 1568\n",
      "Film: Pulp Fiction, ocena: 1537\n",
      "Film: The Lord of the Rings: The Two Towers, ocena: 1528\n"
     ]
    }
   ],
   "source": [
    "# test\n",
    "md = MovieData('data/movies.dat')\n",
    "uim = UserItemData('data/user_ratedmovies.dat')\n",
    "vp = ViewsPredictor()\n",
    "rec = Recommender(vp)\n",
    "rec.fit(uim)\n",
    "rec_items = rec.recommend(78, n=5, rec_seen=False)\n",
    "for idmovie, val in rec_items:\n",
    "    print(\"Film: {}, ocena: {}\".format(md.get_title(idmovie), val))  "
   ]
  },
  {
   "attachments": {},
   "cell_type": "markdown",
   "metadata": {},
   "source": [
    "## Napovedovanje ocen s podobnostjo med produkti (6) "
   ]
  },
  {
   "cell_type": "code",
   "execution_count": 225,
   "metadata": {},
   "outputs": [],
   "source": [
    "class ItemBasedPredictor:\n",
    "    def __init__(self, min_values : int = 0, threshold : int = 0):\n",
    "        self.min_values = min_values\n",
    "        self.threshold = threshold\n",
    "        self.data = None\n",
    "        self.predictions = None\n",
    "        self.user_averages = None\n",
    "        self.similarities = {}\n",
    "\n",
    "    def fit(self, X : UserItemData):\n",
    "        self.data = X\n",
    "        ratings = X.ratings\n",
    "        self.user_averages = { x[0]: x[1]['rating'].mean() for x in ratings.groupby('userID')}\n",
    "        rating_matrix = ratings.pivot_table(index='movieID', columns='userID', values='rating')\n",
    "        normalized_matrix = rating_matrix - rating_matrix.mean()\n",
    "        self.similarities = self._compute_similarities(normalized_matrix)\n",
    "        \n",
    "    def _compute_similarities(self, matrix):\n",
    "        similarities = {}\n",
    "        for movie_1 in matrix.index:\n",
    "            for movie_2 in matrix.index:\n",
    "                if movie_2 <= movie_1:\n",
    "                    continue\n",
    "                numerator = (matrix.loc[movie_1] * matrix.loc[movie_2]).sum()\n",
    "                denominator_1 = math.sqrt((matrix.pow(2).loc[movie_1]).where(matrix.loc[movie_2].notnull()).sum())\n",
    "                denominator_2 = math.sqrt((matrix.pow(2).loc[movie_2]).where(matrix.loc[movie_1].notnull()).sum())\n",
    "                similarity = numerator / (denominator_1 * denominator_2)\n",
    "                if similarity < self.threshold or similarity < 0:\n",
    "                    similarity = 0\n",
    "                if len(matrix.loc[movie_2].where(matrix.loc[movie_1].notnull())) < self.min_values:\n",
    "                    similarity = 0\n",
    "                similarities[(movie_1, movie_2)] = similarity\n",
    "        return similarities\n",
    "\n",
    "    def predict(self, user_id : int):\n",
    "        sum1 = defaultdict(int)\n",
    "        sum2 = defaultdict(int)\n",
    "        already_rated_movie_ids = self.data.ratings[self.data.ratings['userID'] == user_id]['movieID'].unique()\n",
    "        for (movie_1, movie_2), value in self.similarities.items():\n",
    "            if movie_1 in already_rated_movie_ids:\n",
    "                sum1[movie_2] += self._get_rating(user_id, movie_1) * value\n",
    "                sum2[movie_2] += value\n",
    "            if movie_2 in already_rated_movie_ids:\n",
    "                sum1[movie_1] += self._get_rating(user_id, movie_2) * value\n",
    "                sum2[movie_1] += value\n",
    "        return {k: self._compute_prediction(v, sum2[k]) for k, v in sum1.items() if k not in already_rated_movie_ids}\n",
    "\n",
    "    def _get_rating(self, user_id, movie_id):\n",
    "        return self.data.ratings[(self.data.ratings['userID'] == user_id) & (self.data.ratings['movieID'] == movie_id)].rating.values[0]\n",
    "\n",
    "    def _compute_prediction(self, numerator, denominator):\n",
    "        return numerator / denominator if denominator != 0 else 0\n",
    "\n",
    "    def similarity(self, movie_index_1 : int, movie_index_2 : int):\n",
    "        if movie_index_1 > movie_index_2:\n",
    "            movie_index_1, movie_index_2 = movie_index_2, movie_index_1\n",
    "        return self.similarities[(movie_index_1, movie_index_2)] if (movie_index_1, movie_index_2) in self.similarities else 0\n",
    "\n",
    "    def most_similar(self, n : int = 20):\n",
    "        return sorted(self.similarities.items(), key=lambda x: x[1], reverse=True)[:n]\n",
    "\n",
    "    def similar_items(self, movie_id, n):\n",
    "        return sorted([(k[1], v) for k,v in self.similarities.items() if k[0] == movie_id] + [(k[0], v) for k,v in self.similarities.items() if k[1] == movie_id], key=lambda x: x[1], reverse=True)[:n]\n"
   ]
  },
  {
   "cell_type": "code",
   "execution_count": 226,
   "metadata": {},
   "outputs": [
    {
     "name": "stdout",
     "output_type": "stream",
     "text": [
      "Podobnost med filmoma 'Men in black'(1580) in 'Ghostbusters'(2716):  0.23395523176756633\n",
      "Podobnost med filmoma 'Men in black'(1580) in 'Schindler's List'(527):  0\n",
      "Podobnost med filmoma 'Men in black'(1580) in 'Independence day'(780):  0.4246612584468763\n"
     ]
    }
   ],
   "source": [
    "# test\n",
    "md = MovieData('data/movies.dat')\n",
    "uim = UserItemData('data/user_ratedmovies.dat', min_ratings=1000)\n",
    "ip = ItemBasedPredictor()\n",
    "rec = Recommender(ip)\n",
    "rec.fit(uim)\n",
    "\n",
    "print(\"Podobnost med filmoma 'Men in black'(1580) in 'Ghostbusters'(2716): \", ip.similarity(1580, 2716))\n",
    "print(\"Podobnost med filmoma 'Men in black'(1580) in 'Schindler's List'(527): \", ip.similarity(1580, 527))\n",
    "print(\"Podobnost med filmoma 'Men in black'(1580) in 'Independence day'(780): \", ip.similarity(1580, 780))"
   ]
  },
  {
   "cell_type": "code",
   "execution_count": 227,
   "metadata": {},
   "outputs": [
    {
     "name": "stdout",
     "output_type": "stream",
     "text": [
      "Predictions for 78: \n",
      "Film: Shichinin no samurai, ocena: 4.3557347903101595\n",
      "Film: The Usual Suspects, ocena: 4.3546817280678365\n",
      "Film: The Silence of the Lambs, ocena: 4.335305303472519\n",
      "Film: Sin City, ocena: 4.2786871668991004\n",
      "Film: Monsters, Inc., ocena: 4.2175811369435205\n",
      "Film: The Incredibles, ocena: 4.207098583281748\n",
      "Film: The Lord of the Rings: The Fellowship of the Ring, ocena: 4.152792107348348\n",
      "Film: Batman Begins, ocena: 4.146413806700199\n",
      "Film: Die Hard, ocena: 4.125915602232819\n",
      "Film: Rain Man, ocena: 4.07153524295855\n",
      "Film: The Lord of the Rings: The Return of the King, ocena: 4.020237449257013\n",
      "Film: A Beautiful Mind, ocena: 4.015142490064837\n",
      "Film: Good Will Hunting, ocena: 4.009280806922821\n",
      "Film: The Lord of the Rings: The Two Towers, ocena: 3.9414763050955943\n",
      "Film: Indiana Jones and the Last Crusade, ocena: 3.7969764963789245\n"
     ]
    }
   ],
   "source": [
    "print(\"Predictions for 78: \")\n",
    "rec_items = rec.recommend(78, n=15, rec_seen=False)\n",
    "for idmovie, val in rec_items:\n",
    "    print(\"Film: {}, ocena: {}\".format(md.get_title(idmovie), val))"
   ]
  },
  {
   "cell_type": "code",
   "execution_count": 228,
   "metadata": {},
   "outputs": [
    {
     "name": "stdout",
     "output_type": "stream",
     "text": [
      "Film 1: The Lord of the Rings: The Two Towers, Film 2:The Lord of the Rings: The Return of the King, podobnost: 0.8439842148481418\n",
      "Film 1: The Lord of the Rings: The Fellowship of the Ring, Film 2:The Lord of the Rings: The Two Towers, podobnost: 0.8231885401761888\n",
      "Film 1: The Lord of the Rings: The Fellowship of the Ring, Film 2:The Lord of the Rings: The Return of the King, podobnost: 0.8079374897442495\n",
      "Film 1: Kill Bill: Vol. 2, Film 2:Kill Bill: Vol. 2, podobnost: 0.7372340224381029\n",
      "Film 1: Star Wars, Film 2:Star Wars: Episode V - The Empire Strikes Back, podobnost: 0.7021321132220318\n",
      "Film 1: Ace Ventura: Pet Detective, Film 2:The Mask, podobnost: 0.6616471778494046\n",
      "Film 1: Star Wars: Episode V - The Empire Strikes Back, Film 2:Star Wars: Episode VI - Return of the Jedi, podobnost: 0.5992253753778948\n",
      "Film 1: Independence Day, Film 2:Star Wars: Episode I - The Phantom Menace, podobnost: 0.5610426219249997\n",
      "Film 1: Ace Ventura: Pet Detective, Film 2:Austin Powers: The Spy Who Shagged Me, podobnost: 0.5546511205201552\n",
      "Film 1: Star Wars, Film 2:Star Wars: Episode VI - Return of the Jedi, podobnost: 0.5537849318137372\n",
      "Film 1: Speed, Film 2:Pretty Woman, podobnost: 0.5452283115904596\n",
      "Film 1: Speed, Film 2:Independence Day, podobnost: 0.5431378689126924\n",
      "Film 1: The Mask, Film 2:Mrs. Doubtfire, podobnost: 0.5398021259282234\n",
      "Film 1: Star Wars: Episode I - The Phantom Menace, Film 2:The Matrix Reloaded, podobnost: 0.539553095856011\n",
      "Film 1: Pulp Fiction, Film 2:Reservoir Dogs, podobnost: 0.5325845218198639\n",
      "Film 1: The Mask, Film 2:Speed, podobnost: 0.527881777853781\n",
      "Film 1: Mrs. Doubtfire, Film 2:Pretty Woman, podobnost: 0.5270868855316113\n",
      "Film 1: The Usual Suspects, Film 2:The Shawshank Redemption, podobnost: 0.517724533955058\n",
      "Film 1: Pretty Woman, Film 2:Independence Day, podobnost: 0.5159691824959433\n",
      "Film 1: Mrs. Doubtfire, Film 2:Independence Day, podobnost: 0.5058863618664245\n"
     ]
    }
   ],
   "source": [
    "for movie, val in ip.most_similar():\n",
    "    print(f\"Film 1: {md.get_title(movie[0])}, Film 2:{md.get_title(movie[1])}, podobnost: {val}\")"
   ]
  },
  {
   "attachments": {},
   "cell_type": "markdown",
   "metadata": {},
   "source": [
    "## Priporočanje glede na trenutno ogledano vsebino (7) "
   ]
  },
  {
   "cell_type": "code",
   "execution_count": 229,
   "metadata": {},
   "outputs": [
    {
     "name": "stdout",
     "output_type": "stream",
     "text": [
      "Filmi podobni \"The Lord of the Rings: The Fellowship of the Ring\": \n",
      "Film: The Lord of the Rings: The Two Towers, ocena: 0.8231885401761888\n",
      "Film: The Lord of the Rings: The Return of the King, ocena: 0.8079374897442495\n",
      "Film: Star Wars: Episode V - The Empire Strikes Back, ocena: 0.23961943073496453\n",
      "Film: Star Wars, ocena: 0.2196558652707407\n",
      "Film: The Matrix, ocena: 0.2151555270688023\n",
      "Film: Raiders of the Lost Ark, ocena: 0.19944276706345015\n",
      "Film: The Usual Suspects, ocena: 0.18321188451910753\n",
      "Film: Blade Runner, ocena: 0.1639968131541027\n",
      "Film: Schindler's List, ocena: 0.16105905138148702\n",
      "Film: Monty Python and the Holy Grail, ocena: 0.1578045379851914\n"
     ]
    }
   ],
   "source": [
    "rec_items = ip.similar_items(4993, 10)\n",
    "print('Filmi podobni \"The Lord of the Rings: The Fellowship of the Ring\": ')\n",
    "for idmovie, val in rec_items:\n",
    "    print(\"Film: {}, ocena: {}\".format(md.get_title(idmovie), val))"
   ]
  },
  {
   "attachments": {},
   "cell_type": "markdown",
   "metadata": {},
   "source": [
    "## Priporočilo zase (7)"
   ]
  },
  {
   "cell_type": "code",
   "execution_count": 230,
   "metadata": {},
   "outputs": [],
   "source": [
    "md = MovieData('data/movies.dat')\n",
    "uim = UserItemData('data/user_ratedmovies_new.dat', min_ratings=1000)\n",
    "ip = ItemBasedPredictor()\n",
    "rec = Recommender(rp)\n",
    "rec.fit(uim)"
   ]
  },
  {
   "cell_type": "code",
   "execution_count": 231,
   "metadata": {},
   "outputs": [
    {
     "name": "stdout",
     "output_type": "stream",
     "text": [
      "Predictions for Kuhar(1): \n",
      "Film: Waiting to Exhale, ocena: 5\n",
      "Film: Heat, ocena: 5\n",
      "Film: The American President, ocena: 5\n",
      "Film: Four Rooms, ocena: 5\n",
      "Film: Get Shorty, ocena: 5\n",
      "Film: Powder, ocena: 5\n",
      "Film: Othello, ocena: 5\n",
      "Film: La cité des enfants perdus, ocena: 5\n",
      "Film: Yao a yao yao dao waipo qiao, ocena: 5\n",
      "Film: It Takes Two, ocena: 5\n"
     ]
    }
   ],
   "source": [
    "print(\"Predictions for Kuhar(1): \")\n",
    "rec_items = rec.recommend(1, n=10, rec_seen=False)\n",
    "for idmovie, val in rec_items:\n",
    "    print(\"Film: {}, ocena: {}\".format(md.get_title(idmovie), val))"
   ]
  }
 ],
 "metadata": {
  "kernelspec": {
   "display_name": "Python 3",
   "language": "python",
   "name": "python3"
  },
  "language_info": {
   "codemirror_mode": {
    "name": "ipython",
    "version": 3
   },
   "file_extension": ".py",
   "mimetype": "text/x-python",
   "name": "python",
   "nbconvert_exporter": "python",
   "pygments_lexer": "ipython3",
   "version": "3.10.7 (tags/v3.10.7:6cc6b13, Sep  5 2022, 14:08:36) [MSC v.1933 64 bit (AMD64)]"
  },
  "orig_nbformat": 4,
  "vscode": {
   "interpreter": {
    "hash": "0cf40499047ac89b49562712a64ea6acf8c6f012e163f0f426c12ed68eaabd48"
   }
  }
 },
 "nbformat": 4,
 "nbformat_minor": 2
}
