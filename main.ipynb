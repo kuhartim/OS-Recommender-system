{
 "cells": [
  {
   "attachments": {},
   "cell_type": "markdown",
   "metadata": {},
   "source": [
    "# OS Seminarska naloga - Tim Kuhar, 63200163"
   ]
  },
  {
   "attachments": {},
   "cell_type": "markdown",
   "metadata": {},
   "source": [
    "## Knjižnice"
   ]
  },
  {
   "attachments": {},
   "cell_type": "markdown",
   "metadata": {},
   "source": [
    "V tem koraku sem \"importal\" vse knjižnice, ki sem jih potreboval"
   ]
  },
  {
   "cell_type": "code",
   "execution_count": 128,
   "metadata": {},
   "outputs": [],
   "source": [
    "import pandas as pd\n",
    "import datetime as dt\n",
    "import random\n",
    "import math\n",
    "from collections import defaultdict"
   ]
  },
  {
   "attachments": {},
   "cell_type": "markdown",
   "metadata": {},
   "source": [
    "## Branje ocen (6)"
   ]
  },
  {
   "cell_type": "code",
   "execution_count": 129,
   "metadata": {},
   "outputs": [],
   "source": [
    "class UserItemData:\n",
    "\n",
    "    def __init__(self, path: str, start_date: str = None, end_date: str = None, min_ratings: int = 0):\n",
    "        self.path = path\n",
    "\n",
    "        # formatiral sem dani datum, ki je v obliki dd.mm.yyyy v obliko YYYY-MM-DD zaradi kasnejših primerjav (pandas datetime)\n",
    "        self.start_date = self._format_date(start_date) if start_date else None\n",
    "        self.end_date = self._format_date(end_date) if end_date else None\n",
    "\n",
    "        self.min_ratings = min_ratings\n",
    "\n",
    "        self.ratings = self._read_data()\n",
    "\n",
    "    def _format_date(self, date: str) -> str:\n",
    "        date_parts = date.split(\".\")\n",
    "        # tud formatiram iz dd.mm.yyyy v obliko YYYY-MM-DD\n",
    "        formatted_date = \"-\".join([f\"{part:0>2}\" for part in date_parts[::-1]])\n",
    "        return formatted_date\n",
    "\n",
    "    def _read_data(self):\n",
    "        # s pandas naložim podatke\n",
    "        df = pd.read_csv(self.path, sep='\\t')\n",
    "        \n",
    "        # izdelal sem novo polje date tako, da sem združil polja date_year date_month in date_day\n",
    "        date_numbers = df.date_year * 10000 + df.date_month * 100 + df.date_day\n",
    "        df[\"date\"] = pd.to_datetime(date_numbers, format=\"%Y%m%d\")\n",
    "\n",
    "        # v primeru, da je podan start_date vzamem le zapise, ki so po datumu oz so datum start_date\n",
    "        if self.start_date:\n",
    "            df = df[(df['date'] >= self.start_date)]\n",
    "        \n",
    "        # v primeru, da je podan end_date vzamem le zapise, ki so pred datumom end_date\n",
    "        if self.end_date:\n",
    "            df = df[df['date'] < self.end_date]\n",
    "\n",
    "        # v primeru, da je podan min_ratings vzamem le filme, ki imajo vsaj min_ratings ocen\n",
    "        if self.min_ratings:\n",
    "            df = df.groupby('movieID').filter(lambda x: len(x) >= self.min_ratings)\n",
    "        \n",
    "        return df\n",
    "\n",
    "    def nratings(self):\n",
    "        return len(self.ratings)\n",
    "\n"
   ]
  },
  {
   "cell_type": "code",
   "execution_count": 130,
   "metadata": {},
   "outputs": [
    {
     "name": "stdout",
     "output_type": "stream",
     "text": [
      "855598\n",
      "73584\n"
     ]
    }
   ],
   "source": [
    "# test\n",
    "uim = UserItemData('data/user_ratedmovies.dat')\n",
    "print(uim.nratings())\n",
    "\n",
    "uim = UserItemData('data/user_ratedmovies.dat', start_date = '12.1.2007', end_date='16.2.2008', min_ratings=100)\n",
    "print(uim.nratings())"
   ]
  },
  {
   "attachments": {},
   "cell_type": "markdown",
   "metadata": {},
   "source": [
    "## Branje filmov (6) "
   ]
  },
  {
   "cell_type": "code",
   "execution_count": 131,
   "metadata": {},
   "outputs": [],
   "source": [
    "class MovieData:\n",
    "\n",
    "    def __init__(self, path: str):\n",
    "        self.path = path\n",
    "        self.movies = self._load_data()\n",
    "\n",
    "    def _load_data(self):\n",
    "        # s pandas naložim podatke\n",
    "        df = pd.read_csv(self.path, sep='\\t', encoding='ISO-8859-1')\n",
    "        return df\n",
    "\n",
    "    def get_title(self, movie_id: int):\n",
    "        movies = self.movies\n",
    "        # iz zapisov o filmih vzamem le tisti zapis katerega id se ujema z movie_id in preberem naslov\n",
    "        return movies[movies['id'] == movie_id]['title'].values[0]"
   ]
  },
  {
   "cell_type": "code",
   "execution_count": 132,
   "metadata": {},
   "outputs": [
    {
     "name": "stdout",
     "output_type": "stream",
     "text": [
      "Toy story\n"
     ]
    }
   ],
   "source": [
    "# test\n",
    "md = MovieData('data/movies.dat')\n",
    "print(md.get_title(1))"
   ]
  },
  {
   "attachments": {},
   "cell_type": "markdown",
   "metadata": {},
   "source": [
    "## Naključni prediktor (6) "
   ]
  },
  {
   "cell_type": "code",
   "execution_count": 133,
   "metadata": {},
   "outputs": [],
   "source": [
    "class RandomPredictor:\n",
    "\n",
    "    def __init__(self, min_rating: int, max_rating: int):\n",
    "        self.min_rating = min_rating\n",
    "        self.max_rating = max_rating\n",
    "        self.data = None\n",
    "\n",
    "    def fit(self, X: UserItemData):\n",
    "        self.data = X\n",
    "\n",
    "    def predict(self, user_id: int):\n",
    "        # naredim tabelo vseh id filmov (unikatno)\n",
    "        movies_ids = self.data.ratings['movieID'].unique()\n",
    "        # sprehodim se čez tabelo id-jev in za vsak id pripišem naključno oceno od min_rating do max_rating\n",
    "        # vrnem objekt oblike {filmID: ocena}\n",
    "        return {movie_id: random.randint(self.min_rating, self.max_rating) for movie_id in movies_ids}\n"
   ]
  },
  {
   "cell_type": "code",
   "execution_count": 134,
   "metadata": {},
   "outputs": [
    {
     "name": "stdout",
     "output_type": "stream",
     "text": [
      "<class 'dict'>\n",
      "Film: Toy story, ocena: 5\n",
      "Film: Grumpy Old Men, ocena: 4\n",
      "Film: Money Train, ocena: 5\n",
      "Film: The Usual Suspects, ocena: 3\n",
      "Film: City Hall, ocena: 3\n"
     ]
    }
   ],
   "source": [
    "# test\n",
    "md = MovieData('data/movies.dat')\n",
    "uim = UserItemData('data/user_ratedmovies.dat')\n",
    "rp = RandomPredictor(1, 5)\n",
    "rp.fit(uim)\n",
    "pred = rp.predict(78)\n",
    "print(type(pred))\n",
    "items = [1, 3, 20, 50, 100]\n",
    "for item in items:\n",
    "    print(\"Film: {}, ocena: {}\".format(md.get_title(item), pred[item]))"
   ]
  },
  {
   "attachments": {},
   "cell_type": "markdown",
   "metadata": {},
   "source": [
    "## Priporočanje (6) "
   ]
  },
  {
   "cell_type": "code",
   "execution_count": 135,
   "metadata": {},
   "outputs": [],
   "source": [
    "class Recommender:\n",
    "    def __init__(self, predictor):\n",
    "        self.predictor = predictor\n",
    "\n",
    "    def fit(self, X: UserItemData):\n",
    "        self.predictor.fit(X)\n",
    "\n",
    "    def recommend(self, user_id: int, n: int = 10, rec_seen: bool = True):\n",
    "        prediction = self.predictor.predict(user_id)\n",
    "        # objekt oblike {filmID: ocena} spremenim v array, da ga lahko sortiram\n",
    "        # sortiram array tako, da so filmi z najvišjo oceno na začetku\n",
    "        sorted_prediction = sorted(prediction.items(), key=lambda x: x[1], reverse=True)\n",
    "\n",
    "        # v primeru, da je rec_seen true uredim podatke še tako, da vzamem le filme, ki jih uporabnik še ni gledal\n",
    "        if not rec_seen:\n",
    "            ratings = self.predictor.data.ratings\n",
    "            # iz ocen vzamem vse filme, ki jih je uporabnik že gledal\n",
    "            seen_movies = ratings[ratings['userID'] == user_id]['movieID'].values\n",
    "            # iz arraya sorted_prediction vzamem vse filme, ki se nahajajo v seen_movies\n",
    "            sorted_prediction = [x for x in sorted_prediction if x[0] not in seen_movies]\n",
    "\n",
    "        # vrnem prvih n filmov iz sorted_prediction\n",
    "        return sorted_prediction[:n]\n"
   ]
  },
  {
   "cell_type": "code",
   "execution_count": 157,
   "metadata": {},
   "outputs": [
    {
     "name": "stdout",
     "output_type": "stream",
     "text": [
      "Film: The Crow, ocena: 5\n",
      "Film: Beverly Hills Cop III, ocena: 5\n",
      "Film: The Fifth Element, ocena: 5\n",
      "Film: Armageddon, ocena: 5\n",
      "Film: Back to the Future Part II, ocena: 5\n"
     ]
    }
   ],
   "source": [
    "md = MovieData('data/movies.dat')\n",
    "uim = UserItemData('data/user_ratedmovies.dat')\n",
    "rp = RandomPredictor(1, 5)\n",
    "rec = Recommender(rp)\n",
    "rec.fit(uim)\n",
    "rec_items = rec.recommend(78, n=5, rec_seen=False)\n",
    "for idmovie, val in rec_items:\n",
    "    print(\"Film: {}, ocena: {}\".format(md.get_title(idmovie), val))  "
   ]
  },
  {
   "attachments": {},
   "cell_type": "markdown",
   "metadata": {},
   "source": [
    "## Napovedovanje s povprečjem (6) "
   ]
  },
  {
   "cell_type": "code",
   "execution_count": 158,
   "metadata": {},
   "outputs": [],
   "source": [
    "class AveragePredictor:\n",
    "\n",
    "    def __init__(self, b : int):\n",
    "        if b < 0:\n",
    "            raise ValueError(\"'b' must be equal to or greater than 0\")\n",
    "        self.b = b\n",
    "        self.data = None\n",
    "        self.predictions = None\n",
    "\n",
    "    def fit(self, X : UserItemData):\n",
    "        self.data = X\n",
    "        ratings = X.ratings\n",
    "        # naredim izračun podan v navodilih\n",
    "        # sprehodim se čez vse filme in za vsak film naredim izračun\n",
    "        '''  \n",
    "            vs je vsota vseh ocen za ta film,\n",
    "            n je število ocen, ki jih je ta film dobil,\n",
    "            g_avg je povprečje čez vse filme,\n",
    "            b je parameter formule za povprečje. Če je b=0, gre za navadno povprečje.\n",
    "        '''\n",
    "        # movies_ids = ratings[\"movieID\"].unique()\n",
    "        # vs = [ratings[ratings[\"movieID\"] == movie_id][\"rating\"].sum() for movie_id in movies_ids]\n",
    "        # b = self.b\n",
    "        # g_avg = ratings[\"rating\"].mean()\n",
    "        # n = [len(ratings[ratings[\"movieID\"] == movie_id]) for movie_id in movies_ids]\n",
    "        # avg = (vs + b * g_avg) / (n + b)\n",
    "\n",
    "        #                   movie_id  (|-----------------------vs---------------------------| + |--b--| * |--------g_avg---------|) / (|--------------------n-------------------|) + |--b--|)\n",
    "        self.predictions = {movie_id: (ratings[ratings[\"movieID\"] == movie_id][\"rating\"].sum() + self.b * ratings[\"rating\"].mean()) / (len(ratings[ratings[\"movieID\"] == movie_id]) + self.b) for movie_id in ratings[\"movieID\"].unique()}\n",
    "\n",
    "    def predict(self, user_id : int):\n",
    "        return self.predictions"
   ]
  },
  {
   "cell_type": "code",
   "execution_count": 159,
   "metadata": {},
   "outputs": [
    {
     "name": "stdout",
     "output_type": "stream",
     "text": [
      "Film: Brother Minister: The Assassination of Malcolm X, ocena: 5.0\n",
      "Film: Synthetic Pleasures, ocena: 5.0\n",
      "Film: Adam & Steve, ocena: 5.0\n",
      "Film: Gabbeh, ocena: 5.0\n",
      "Film: Eve and the Fire Horse, ocena: 5.0\n"
     ]
    }
   ],
   "source": [
    "# test\n",
    "md = MovieData('data/movies.dat')\n",
    "uim = UserItemData('data/user_ratedmovies.dat')\n",
    "ap = AveragePredictor(0)\n",
    "rec = Recommender(ap)\n",
    "rec.fit(uim)\n",
    "rec_items = rec.recommend(78, n=5, rec_seen=False)\n",
    "for idmovie, val in rec_items:\n",
    "    print(\"Film: {}, ocena: {}\".format(md.get_title(idmovie), val))  "
   ]
  },
  {
   "cell_type": "code",
   "execution_count": 139,
   "metadata": {},
   "outputs": [
    {
     "name": "stdout",
     "output_type": "stream",
     "text": [
      "Film: The Usual Suspects, ocena: 4.225944245560473\n",
      "Film: The Godfather: Part II, ocena: 4.146907937910189\n",
      "Film: Cidade de Deus, ocena: 4.116538340205236\n",
      "Film: The Dark Knight, ocena: 4.10413904093503\n",
      "Film: 12 Angry Men, ocena: 4.103639627096175\n"
     ]
    }
   ],
   "source": [
    "# test\n",
    "md = MovieData('data/movies.dat')\n",
    "uim = UserItemData('data/user_ratedmovies.dat')\n",
    "ap = AveragePredictor(100)\n",
    "rec = Recommender(ap)\n",
    "rec.fit(uim)\n",
    "rec_items = rec.recommend(78, n=5, rec_seen=False)\n",
    "for idmovie, val in rec_items:\n",
    "    print(\"Film: {}, ocena: {}\".format(md.get_title(idmovie), val)) "
   ]
  },
  {
   "attachments": {},
   "cell_type": "markdown",
   "metadata": {},
   "source": [
    "## Priporočanje najbolj gledanih filmov (6) "
   ]
  },
  {
   "cell_type": "code",
   "execution_count": 140,
   "metadata": {},
   "outputs": [],
   "source": [
    "class ViewsPredictor:\n",
    "\n",
    "    def __init__(self):\n",
    "        self.data = None\n",
    "        self.predictions = None\n",
    "\n",
    "    def fit(self, X: UserItemData):\n",
    "        self.data = X\n",
    "        ratings = X.ratings\n",
    "        # naredim objekt oblike {filmID: štOcen}\n",
    "        # grupiram filme po ID-jih in pogledam dolžino skupine\n",
    "        self.predictions = {movie_id: len(group) for movie_id, group in ratings.groupby('movieID')}\n",
    "\n",
    "    def predict(self, user_id: int):\n",
    "        return self.predictions"
   ]
  },
  {
   "cell_type": "code",
   "execution_count": 141,
   "metadata": {},
   "outputs": [
    {
     "name": "stdout",
     "output_type": "stream",
     "text": [
      "Film: The Lord of the Rings: The Fellowship of the Ring, ocena: 1576\n",
      "Film: The Lord of the Rings: The Two Towers, ocena: 1528\n",
      "Film: The Lord of the Rings: The Return of the King, ocena: 1457\n",
      "Film: The Silence of the Lambs, ocena: 1431\n",
      "Film: Shrek, ocena: 1404\n"
     ]
    }
   ],
   "source": [
    "# test\n",
    "md = MovieData('data/movies.dat')\n",
    "uim = UserItemData('data/user_ratedmovies.dat')\n",
    "vp = ViewsPredictor()\n",
    "rec = Recommender(vp)\n",
    "rec.fit(uim)\n",
    "rec_items = rec.recommend(78, n=5, rec_seen=False)\n",
    "for idmovie, val in rec_items:\n",
    "    print(\"Film: {}, ocena: {}\".format(md.get_title(idmovie), val))  "
   ]
  },
  {
   "attachments": {},
   "cell_type": "markdown",
   "metadata": {},
   "source": [
    "## Napovedovanje ocen s podobnostjo med produkti (6) "
   ]
  },
  {
   "cell_type": "code",
   "execution_count": 142,
   "metadata": {},
   "outputs": [],
   "source": [
    "class ItemBasedPredictor:\n",
    "    def __init__(self, min_values : int = 0, threshold : int = 0):\n",
    "        self.min_values = min_values\n",
    "        self.threshold = threshold\n",
    "        self.data = None\n",
    "        self.predictions = None\n",
    "        self.user_averages = None\n",
    "        self.similarities = {}\n",
    "\n",
    "    def fit(self, X : UserItemData):\n",
    "        self.data = X\n",
    "        ratings = X.ratings\n",
    "        # izračunam povprečne ocene za vsakega uporabnika\n",
    "        # naredim objekt oblike {userID: povprečnaOcena}\n",
    "        self.user_averages = { x[0]: x[1]['rating'].mean() for x in ratings.groupby('userID')}\n",
    "        # preoblikujem obliko podatkov v obliko:\n",
    "        # vrstice: movieID\n",
    "        # stolpci: userID\n",
    "        # vrednosti: ocena uporabnika za film\n",
    "        rating_matrix = ratings.pivot_table(index='movieID', columns='userID', values='rating')\n",
    "        # normaliziram matriko tako, da od vsake ocene odštejem povprečje\n",
    "        normalized_matrix = rating_matrix - rating_matrix.mean()\n",
    "        # izračun podobnosti\n",
    "        self.similarities = self._compute_similarities(normalized_matrix)\n",
    "        \n",
    "    def _compute_similarities(self, matrix):\n",
    "        similarities = {}\n",
    "        # naredim kombinacije filmov [movie_1, movie_2]\n",
    "        for movie_1 in matrix.index:\n",
    "            for movie_2 in matrix.index:\n",
    "                # če je id movie_2 manjši od movie_1 nadaljujem, saj ne želim 2x računati vrednosti (podvojenih vrednosti)\n",
    "                if movie_2 <= movie_1:\n",
    "                    continue\n",
    "\n",
    "                # Izračunam podobnosti po popravljeni kosinusni razdalji (po formuli)\n",
    "                numerator = (matrix.loc[movie_1] * matrix.loc[movie_2]).sum()\n",
    "                denominator_1 = math.sqrt((matrix.pow(2).loc[movie_1]).where(matrix.loc[movie_2].notnull()).sum())\n",
    "                denominator_2 = math.sqrt((matrix.pow(2).loc[movie_2]).where(matrix.loc[movie_1].notnull()).sum())\n",
    "                \n",
    "                # če ni zadostnega števila podobnosti\n",
    "                # če je podobnost manjša od threshold-a\n",
    "                # če je podobnost negativno število\n",
    "                # potem nastavim podobnost na 0\n",
    "                if len(matrix.loc[movie_2].where(matrix.loc[movie_1].notnull())) < self.min_values:\n",
    "                    similarity = 0\n",
    "                elif numerator / (denominator_1 * denominator_2) < self.threshold or numerator / (denominator_1 * denominator_2) < 0:\n",
    "                    similarity = 0\n",
    "                else:\n",
    "                    similarity = numerator / (denominator_1 * denominator_2)\n",
    "                \n",
    "                # shranim podobnost kot\n",
    "                # kluč: tuple(film1ID, film2ID)\n",
    "                # vrednost: podobnost\n",
    "                similarities[(movie_1, movie_2)] = similarity\n",
    "        return similarities\n",
    "\n",
    "    def predict(self, user_id : int):\n",
    "        sum1 = defaultdict(int)\n",
    "        sum2 = defaultdict(int)\n",
    "\n",
    "        # seznam že ocenjenih filmov s strani uporabnika\n",
    "        already_rated_movie_ids = self.data.ratings[self.data.ratings['userID'] == user_id]['movieID'].unique()\n",
    "        \n",
    "        # sprehodim se čez podobnosti in preberem FILM1ID, FILM2ID, podobnost\n",
    "        for (movie_1, movie_2), value in self.similarities.items():\n",
    "            # v primeru da je film1 v že ocenjenih filmih naredim izračun\n",
    "            if movie_1 in already_rated_movie_ids:\n",
    "                # vsoti 1 prištejem oceno filma movie_1 pomnoženo z podobnostjo med filmoma\n",
    "                sum1[movie_2] += self._get_rating(user_id, movie_1) * value\n",
    "                # vsoti 2 prištejem podobnost med filmoma\n",
    "                sum2[movie_2] += value\n",
    "            # v primeru da je film2 v že ocenjenih filmih naredim izračun\n",
    "            if movie_2 in already_rated_movie_ids:\n",
    "                # vsoti 1 prištejem oceno filma movie_2 pomnoženo z podobnostjo med filmoma\n",
    "                sum1[movie_1] += self._get_rating(user_id, movie_2) * value\n",
    "                # vsoti 2 prištejem podobnost med filmoma\n",
    "                sum2[movie_1] += value\n",
    "\n",
    "        # naredim objekt oblike:\n",
    "        # {filmID: vrednost}\n",
    "        # vrendost je izračunana v funkciji _compute_prediction\n",
    "        return {k: self._compute_prediction(v, sum2[k]) for k, v in sum1.items() if k not in already_rated_movie_ids}\n",
    "\n",
    "    def _get_rating(self, user_id, movie_id):\n",
    "        # vrnem oceno filma, ki ga je ocenil dani uporabnik\n",
    "        return self.data.ratings[(self.data.ratings['userID'] == user_id) & (self.data.ratings['movieID'] == movie_id)].rating.values[0]\n",
    "\n",
    "    def _compute_prediction(self, numerator, denominator):\n",
    "        # vrednost izračunana po formuli\n",
    "        # vsota od ocena filma krat vsota podobnosti\n",
    "        # v primeru da je vsota podobnosti 0 vrnem 0\n",
    "        return numerator / denominator if denominator != 0 else 0\n",
    "\n",
    "    def similarity(self, movie_index_1 : int, movie_index_2 : int):\n",
    "        # v prejšnjih izračunih je izračunan ona način, da je (film1ID, film2ID) film1ID manjši od film2ID, zato v danem primeru zamenjam ID-ja\n",
    "        # za podobnost velja da je enaka neglede na to kako obrnemo filme\n",
    "        # film 1 bo še vedno enako podoben filmu 2 kot je film 2 podoben filmu 1\n",
    "        # zato lahko v tem primeru obrnem filma\n",
    "        if movie_index_1 > movie_index_2:\n",
    "            movie_index_1, movie_index_2 = movie_index_2, movie_index_1\n",
    "        # preberem podobnost med danima filmoma\n",
    "        return self.similarities[(movie_index_1, movie_index_2)] if (movie_index_1, movie_index_2) in self.similarities else 0\n",
    "\n",
    "    def most_similar(self, n : int = 20):\n",
    "        # uredim podobnosti po vrednosti in vrnem prvih n\n",
    "        return sorted(self.similarities.items(), key=lambda x: x[1], reverse=True)[:n]\n",
    "\n",
    "    def similar_items(self, movie_id, n):\n",
    "        # vzamem tiste podobnosti, ki imajo za movie_1 ali movie_2, movie_id\n",
    "        # nato jih sortiram tako, da so največje podobnosti na začetku\n",
    "        # vrnem n podobnosti\n",
    "        return sorted([(k[1], v) for k,v in self.similarities.items() if k[0] == movie_id] + [(k[0], v) for k,v in self.similarities.items() if k[1] == movie_id], key=lambda x: x[1], reverse=True)[:n]\n"
   ]
  },
  {
   "cell_type": "code",
   "execution_count": 143,
   "metadata": {},
   "outputs": [
    {
     "name": "stdout",
     "output_type": "stream",
     "text": [
      "Podobnost med filmoma 'Men in black'(1580) in 'Ghostbusters'(2716):  0.23395523176756633\n",
      "Podobnost med filmoma 'Men in black'(1580) in 'Schindler's List'(527):  0\n",
      "Podobnost med filmoma 'Men in black'(1580) in 'Independence day'(780):  0.4246612584468763\n"
     ]
    }
   ],
   "source": [
    "# test\n",
    "md = MovieData('data/movies.dat')\n",
    "uim = UserItemData('data/user_ratedmovies.dat', min_ratings=1000)\n",
    "ip = ItemBasedPredictor()\n",
    "rec = Recommender(ip)\n",
    "rec.fit(uim)\n",
    "\n",
    "print(\"Podobnost med filmoma 'Men in black'(1580) in 'Ghostbusters'(2716): \", ip.similarity(1580, 2716))\n",
    "print(\"Podobnost med filmoma 'Men in black'(1580) in 'Schindler's List'(527): \", ip.similarity(1580, 527))\n",
    "print(\"Podobnost med filmoma 'Men in black'(1580) in 'Independence day'(780): \", ip.similarity(1580, 780))"
   ]
  },
  {
   "cell_type": "code",
   "execution_count": 144,
   "metadata": {},
   "outputs": [
    {
     "name": "stdout",
     "output_type": "stream",
     "text": [
      "Predictions for 78: \n",
      "Film: Shichinin no samurai, ocena: 4.3557347903101595\n",
      "Film: The Usual Suspects, ocena: 4.3546817280678365\n",
      "Film: The Silence of the Lambs, ocena: 4.335305303472519\n",
      "Film: Sin City, ocena: 4.2786871668991004\n",
      "Film: Monsters, Inc., ocena: 4.2175811369435205\n",
      "Film: The Incredibles, ocena: 4.207098583281748\n",
      "Film: The Lord of the Rings: The Fellowship of the Ring, ocena: 4.152792107348348\n",
      "Film: Batman Begins, ocena: 4.146413806700199\n",
      "Film: Die Hard, ocena: 4.125915602232819\n",
      "Film: Rain Man, ocena: 4.07153524295855\n",
      "Film: The Lord of the Rings: The Return of the King, ocena: 4.020237449257013\n",
      "Film: A Beautiful Mind, ocena: 4.015142490064837\n",
      "Film: Good Will Hunting, ocena: 4.009280806922821\n",
      "Film: The Lord of the Rings: The Two Towers, ocena: 3.9414763050955943\n",
      "Film: Indiana Jones and the Last Crusade, ocena: 3.7969764963789245\n"
     ]
    }
   ],
   "source": [
    "print(\"Predictions for 78: \")\n",
    "rec_items = rec.recommend(78, n=15, rec_seen=False)\n",
    "for idmovie, val in rec_items:\n",
    "    print(\"Film: {}, ocena: {}\".format(md.get_title(idmovie), val))"
   ]
  },
  {
   "cell_type": "code",
   "execution_count": 145,
   "metadata": {},
   "outputs": [
    {
     "name": "stdout",
     "output_type": "stream",
     "text": [
      "Film 1: The Lord of the Rings: The Two Towers, Film 2:The Lord of the Rings: The Return of the King, podobnost: 0.8439842148481418\n",
      "Film 1: The Lord of the Rings: The Fellowship of the Ring, Film 2:The Lord of the Rings: The Two Towers, podobnost: 0.8231885401761888\n",
      "Film 1: The Lord of the Rings: The Fellowship of the Ring, Film 2:The Lord of the Rings: The Return of the King, podobnost: 0.8079374897442495\n",
      "Film 1: Kill Bill: Vol. 2, Film 2:Kill Bill: Vol. 2, podobnost: 0.7372340224381029\n",
      "Film 1: Star Wars, Film 2:Star Wars: Episode V - The Empire Strikes Back, podobnost: 0.7021321132220318\n",
      "Film 1: Ace Ventura: Pet Detective, Film 2:The Mask, podobnost: 0.6616471778494046\n",
      "Film 1: Star Wars: Episode V - The Empire Strikes Back, Film 2:Star Wars: Episode VI - Return of the Jedi, podobnost: 0.5992253753778948\n",
      "Film 1: Independence Day, Film 2:Star Wars: Episode I - The Phantom Menace, podobnost: 0.5610426219249997\n",
      "Film 1: Ace Ventura: Pet Detective, Film 2:Austin Powers: The Spy Who Shagged Me, podobnost: 0.5546511205201552\n",
      "Film 1: Star Wars, Film 2:Star Wars: Episode VI - Return of the Jedi, podobnost: 0.5537849318137372\n",
      "Film 1: Speed, Film 2:Pretty Woman, podobnost: 0.5452283115904596\n",
      "Film 1: Speed, Film 2:Independence Day, podobnost: 0.5431378689126924\n",
      "Film 1: The Mask, Film 2:Mrs. Doubtfire, podobnost: 0.5398021259282234\n",
      "Film 1: Star Wars: Episode I - The Phantom Menace, Film 2:The Matrix Reloaded, podobnost: 0.539553095856011\n",
      "Film 1: Pulp Fiction, Film 2:Reservoir Dogs, podobnost: 0.5325845218198639\n",
      "Film 1: The Mask, Film 2:Speed, podobnost: 0.527881777853781\n",
      "Film 1: Mrs. Doubtfire, Film 2:Pretty Woman, podobnost: 0.5270868855316113\n",
      "Film 1: The Usual Suspects, Film 2:The Shawshank Redemption, podobnost: 0.517724533955058\n",
      "Film 1: Pretty Woman, Film 2:Independence Day, podobnost: 0.5159691824959433\n",
      "Film 1: Mrs. Doubtfire, Film 2:Independence Day, podobnost: 0.5058863618664245\n"
     ]
    }
   ],
   "source": [
    "for movie, val in ip.most_similar():\n",
    "    print(f\"Film 1: {md.get_title(movie[0])}, Film 2:{md.get_title(movie[1])}, podobnost: {val}\")"
   ]
  },
  {
   "attachments": {},
   "cell_type": "markdown",
   "metadata": {},
   "source": [
    "## Priporočanje glede na trenutno ogledano vsebino (7) "
   ]
  },
  {
   "cell_type": "code",
   "execution_count": 146,
   "metadata": {},
   "outputs": [
    {
     "name": "stdout",
     "output_type": "stream",
     "text": [
      "Filmi podobni \"The Lord of the Rings: The Fellowship of the Ring\": \n",
      "Film: The Lord of the Rings: The Two Towers, ocena: 0.8231885401761888\n",
      "Film: The Lord of the Rings: The Return of the King, ocena: 0.8079374897442495\n",
      "Film: Star Wars: Episode V - The Empire Strikes Back, ocena: 0.23961943073496453\n",
      "Film: Star Wars, ocena: 0.2196558652707407\n",
      "Film: The Matrix, ocena: 0.2151555270688023\n",
      "Film: Raiders of the Lost Ark, ocena: 0.19944276706345015\n",
      "Film: The Usual Suspects, ocena: 0.18321188451910753\n",
      "Film: Blade Runner, ocena: 0.1639968131541027\n",
      "Film: Schindler's List, ocena: 0.16105905138148702\n",
      "Film: Monty Python and the Holy Grail, ocena: 0.1578045379851914\n"
     ]
    }
   ],
   "source": [
    "# metoda prejme id filma, v danem primeru je to film \n",
    "# \"The Lord of the Rings: The Fellowship of the Ring\"\n",
    "# izpišem prvih 10 najbolj podobnih filmov in vrednost izračuna podobnosti\n",
    "rec_items = ip.similar_items(4993, 10)\n",
    "print('Filmi podobni \"The Lord of the Rings: The Fellowship of the Ring\": ')\n",
    "for idmovie, val in rec_items:\n",
    "    print(\"Film: {}, ocena: {}\".format(md.get_title(idmovie), val))"
   ]
  },
  {
   "attachments": {},
   "cell_type": "markdown",
   "metadata": {},
   "source": [
    "## Priporočilo zase (7)"
   ]
  },
  {
   "attachments": {},
   "cell_type": "markdown",
   "metadata": {},
   "source": [
    "Dodelil sem si id 1, in si v datoteko user_ratedmovies_new.dat dodal naslednje zapise:<br/>\n",
    "1   4369    5   7   1   2023    15  0   0<br/>\n",
    "1   46335   5   7   1   2023    15  5   0<br/>\n",
    "1   4201    5   7   1   2023    15  10  0<br/>\n",
    "1   1       3   20  10  2022    7   0   0<br/>\n",
    "1   2       4   10  1   2021    8   0   0<br/>\n",
    "1   63436   4.5 12  4   2020    6   8   2<br/>\n",
    "1   62912   3.5 8   1   2015    5   6   7<br/>\n",
    "1   59315   5   7   3   2018    6   3   4<br/>\n",
    "1   56367   2.5 3   3   2012    5   6   7<br/>\n",
    "1   54503   4   2   2   2020    2   2   2<br/>\n",
    "1   51939   3   4   3   2021    3   4   5<br/>\n",
    "1   48322   4.5 3   4   2022    2   3   4<br/>\n",
    "1   45517   4.5 3   5   2015    2   3   4<br/>\n",
    "1   45499   4   2   3   2020    5   9   5<br/>\n",
    "1   4212    4   12  12  2022    5   4   3<br/>\n",
    "1   3988    3   12  12  2022    12  12  12<br/>\n",
    "1   3702    3.5 2   2   2009    34  34  34<br/>\n",
    "1   2513    3.5 5   6   2017    45  34  34<br/>\n",
    "1   592     4.5 2   3   2034    23  45  45<br/>\n",
    "\n"
   ]
  },
  {
   "cell_type": "code",
   "execution_count": 147,
   "metadata": {},
   "outputs": [],
   "source": [
    "md = MovieData('data/movies.dat')\n",
    "uim = UserItemData('data/user_ratedmovies_new.dat', min_ratings=1000)\n",
    "ip = ItemBasedPredictor()\n",
    "rec = Recommender(rp)\n",
    "rec.fit(uim)"
   ]
  },
  {
   "cell_type": "code",
   "execution_count": 148,
   "metadata": {},
   "outputs": [
    {
     "name": "stdout",
     "output_type": "stream",
     "text": [
      "Predictions for Kuhar(1): \n",
      "Film: Pulp Fiction, ocena: 5\n",
      "Film: The Matrix, ocena: 5\n",
      "Film: The Sixth Sense, ocena: 5\n",
      "Film: Forrest Gump, ocena: 5\n",
      "Film: Schindler's List, ocena: 5\n",
      "Film: Independence Day, ocena: 5\n",
      "Film: Star Wars: Episode V - The Empire Strikes Back, ocena: 5\n",
      "Film: Star Wars: Episode VI - Return of the Jedi, ocena: 5\n",
      "Film: Memento, ocena: 5\n",
      "Film: The Matrix Reloaded, ocena: 5\n"
     ]
    }
   ],
   "source": [
    "print(\"Predictions for Kuhar(1): \")\n",
    "rec_items = rec.recommend(1, n=10, rec_seen=False)\n",
    "for idmovie, val in rec_items:\n",
    "    print(\"Film: {}, ocena: {}\".format(md.get_title(idmovie), val))"
   ]
  },
  {
   "attachments": {},
   "cell_type": "markdown",
   "metadata": {},
   "source": [
    "## Napovedovanje z metodo Slope one (7)"
   ]
  },
  {
   "cell_type": "code",
   "execution_count": 149,
   "metadata": {},
   "outputs": [],
   "source": [
    "class SlopeOnePredictor:\n",
    "    def __init__(self):\n",
    "        self.data = None\n",
    "        self.predictions = {}\n",
    "        self.dev = {}\n",
    "        self.weight = {}\n",
    "\n",
    "    def fit(self, X: UserItemData):\n",
    "        self.data = X\n",
    "        ratings = X.ratings\n",
    "\n",
    "        # tako kot že prej sem preoblikoval tabelo v matriko film, uporabnik, ocena\n",
    "        ratings_pivot = ratings.pivot_table(index='movieID', columns='userID', values='rating')\n",
    "\n",
    "        # kombinacija vseh filmov\n",
    "        for movie_1 in ratings_pivot.index:\n",
    "            for movie_2 in ratings_pivot.index:\n",
    "                # če je film isti preskočim\n",
    "                if movie_1 == movie_2:\n",
    "                    continue\n",
    "                # Izračunam utež\n",
    "                self.weight[(movie_1,movie_2)] = ratings_pivot.loc[movie_1].where(ratings_pivot.loc[movie_2].notnull()).count()\n",
    "                # Izračunam povprečno razliko med ocenama kombinacije filmov \n",
    "                # in številom uporabnikov, ki so ocenili oba filma (movie_1 in movie_2)\n",
    "                self.dev[(movie_1,movie_2)] = (ratings_pivot.loc[movie_1].where(ratings_pivot.loc[movie_2].notnull()) - ratings_pivot.loc[movie_2].where(ratings_pivot.loc[movie_1].notnull())).mean()\n",
    "\n",
    "    def predict(self, user_id: int):\n",
    "        rating_sums = defaultdict(int)\n",
    "        weight_sums = defaultdict(int)\n",
    "        \n",
    "        # pridobim seznam vseh filmov, ki jih je ocenil dani uporabnik\n",
    "        movie_ids = self.data.ratings[self.data.ratings['userID'] == user_id]['movieID'].unique()\n",
    "\n",
    "        # iteriram čez podatke, ki sem jih zračunal prej (povprečna razlika ocen parov filmov)\n",
    "        # dobim film1, film2 in vrendost\n",
    "        for (movie_1, movie_2), v in self.dev.items():\n",
    "            # če se film2 nahaja med filmi, ki jih je ocenil uporabnik\n",
    "            # potem nadaljujem z napovedovanjem ocene filma 1\n",
    "            if movie_2 in movie_ids:\n",
    "                # vsoti za film movie_1 prištejem:\n",
    "                # oceno filma2 (ki ga je ocenil uporabnik) + povprečno razliko ocen para\n",
    "                # pomnožim z utežjo\n",
    "                rating_sums[movie_1] += (self.data.ratings[(self.data.ratings['userID'] == user_id) & (self.data.ratings['movieID'] == movie_2)].rating.values[0] + v) * self.weight[(movie_1,movie_2)]\n",
    "                # vsoti uteži za movie_1 prištejem utež\n",
    "                weight_sums[movie_1] += self.weight[(movie_1,movie_2)]\n",
    "\n",
    "        # vrnem objekt oblike:\n",
    "        # {filmID: vrednost}\n",
    "        # vrednost: vsota deljena z vsoto uteži\n",
    "        return { k: (v / weight_sums[k]) for k, v in rating_sums.items() }\n"
   ]
  },
  {
   "cell_type": "code",
   "execution_count": 150,
   "metadata": {},
   "outputs": [
    {
     "name": "stdout",
     "output_type": "stream",
     "text": [
      "Predictions for 78: \n",
      "Film: The Usual Suspects, ocena: 4.325079182263173\n",
      "Film: The Lord of the Rings: The Fellowship of the Ring, ocena: 4.155293229840448\n",
      "Film: The Lord of the Rings: The Return of the King, ocena: 4.153135076202185\n",
      "Film: The Silence of the Lambs, ocena: 4.127978169643881\n",
      "Film: Shichinin no samurai, ocena: 4.119790444913598\n",
      "Film: The Lord of the Rings: The Two Towers, ocena: 4.083325894849594\n",
      "Film: Indiana Jones and the Last Crusade, ocena: 3.9670398355464194\n",
      "Film: The Incredibles, ocena: 3.9664496674557546\n",
      "Film: Good Will Hunting, ocena: 3.963362387354114\n",
      "Film: Sin City, ocena: 3.942619137615212\n",
      "Film: Batman Begins, ocena: 3.9375326640077017\n",
      "Film: A Beautiful Mind, ocena: 3.9140940935239508\n",
      "Film: Rain Man, ocena: 3.9107819079644943\n",
      "Film: Monsters, Inc., ocena: 3.8819375978658006\n",
      "Film: Finding Nemo, ocena: 3.8807711131654794\n"
     ]
    }
   ],
   "source": [
    "\n",
    "#test\n",
    "md = MovieData('data/movies.dat')\n",
    "uim = UserItemData('data/user_ratedmovies.dat', min_ratings=1000)\n",
    "sop = SlopeOnePredictor()\n",
    "rec = Recommender(sop)\n",
    "rec.fit(uim)\n",
    "\n",
    "print(\"Predictions for 78: \")\n",
    "rec_items = rec.recommend(78, n=15, rec_seen=False)\n",
    "for idmovie, val in rec_items:\n",
    "    print(\"Film: {}, ocena: {}\".format(md.get_title(idmovie), val))\n",
    "\n"
   ]
  },
  {
   "attachments": {},
   "cell_type": "markdown",
   "metadata": {},
   "source": [
    "## Metoda evaluate(self, test_data, n) (8) "
   ]
  },
  {
   "cell_type": "code",
   "execution_count": 151,
   "metadata": {},
   "outputs": [],
   "source": [
    "# iz razreda Recommender naredim nov razred Recommender\n",
    "# torej razredu dodam novo metodo evaluate\n",
    "class Recommender(Recommender):\n",
    "    def evaluate(self, test_data : UserItemData, n : int = 10):\n",
    "        count = 0\n",
    "        users = test_data.ratings.userID.unique()\n",
    "        precision_sum = 0\n",
    "        recall_sum = 0\n",
    "        rmse_sum = 0\n",
    "        mae_sum = 0\n",
    "        \n",
    "        # a = 0\n",
    "        for i in users:\n",
    "            # print(str(a) + \"/\" + str(len(users)) + \" - \" + str(i))\n",
    "            # a += 1\n",
    "            \n",
    "            # za vsakega uporabnika naredim n napovedi\n",
    "            rec_items = dict(self.recommend(i, n=n, rec_seen=False))\n",
    "            # iz danih testnih podatkov vzamem podatke, ki se nanašajo na trenutnega uporabnika\n",
    "            # preoblikujem obliko za kasnejše raučananje\n",
    "            test_items = test_data.ratings[test_data.ratings['userID'] == i][['movieID', 'rating']].pivot_table(index='movieID', values='rating')\n",
    "            \n",
    "            # izračunam koliko filmov si je uporabnik pogledal (izmed napovedanih ocen)\n",
    "            watched_predictions = len(set(rec_items.keys()).intersection(set(test_items.index)))\n",
    "            # izračunam koliko filmov si še ni pogledal\n",
    "            new_movies = len(set(test_items.index) - set(self.predictor.data.ratings[self.predictor.data.ratings['userID'] == i]['movieID'].unique()))\n",
    "            \n",
    "            # izračunam natančnost\n",
    "            precision = watched_predictions / n\n",
    "            # izračunam recall\n",
    "            recall = watched_predictions / new_movies\n",
    "            \n",
    "            # sproti računam vsote natnčonsti in recall-a za končni izpis\n",
    "            precision_sum += precision\n",
    "            recall_sum += recall\n",
    "            \n",
    "            # izračnuam napake za vsak gledani film\n",
    "            for id in set(rec_items.keys()).intersection(set(test_items.index)):\n",
    "                rmse_sum += (test_items.loc[id][0] - rec_items[id]) ** 2\n",
    "                mae_sum += abs(test_items.loc[id][0] - rec_items[id])\n",
    "                count += 1\n",
    "\n",
    "        # končni izračuni po formulah\n",
    "        rmse = (rmse_sum / count) ** 0.5\n",
    "        mae = mae_sum / count\n",
    "        precision = precision_sum / len(users)\n",
    "        recall = recall_sum / len(users)\n",
    "        f1 = 2 * precision * recall / (precision + recall) if precision + recall > 0 else 0\n",
    "\n",
    "        return (rmse, mae, precision, recall, f1)\n"
   ]
  },
  {
   "cell_type": "code",
   "execution_count": 152,
   "metadata": {},
   "outputs": [
    {
     "name": "stdout",
     "output_type": "stream",
     "text": [
      "0.8593687090470131 0.6321782795132675 0.04849690539345704 0.08567838257795103 0.061935941811173796\n"
     ]
    }
   ],
   "source": [
    "md = MovieData('data/movies.dat')\n",
    "uim = UserItemData('data/user_ratedmovies.dat', min_ratings=1000, end_date='1.1.2008')\n",
    "sop = SlopeOnePredictor()\n",
    "rec = Recommender(sop)\n",
    "rec.fit(uim)\n",
    "\n",
    "uim_test = UserItemData('data/user_ratedmovies.dat', min_ratings=200, start_date='2.1.2008')\n",
    "mse, mae, precision, recall, f = rec.evaluate(uim_test, 20)\n",
    "print(mse, mae, precision, recall, f)"
   ]
  },
  {
   "cell_type": "code",
   "execution_count": 153,
   "metadata": {},
   "outputs": [
    {
     "name": "stdout",
     "output_type": "stream",
     "text": [
      "0.8407421191080349 0.6251855149612695 0.24160035366931948 0.19573212227310183 0.21626086589487079\n"
     ]
    }
   ],
   "source": [
    "md = MovieData('data/movies.dat')\n",
    "uim = UserItemData('data/user_ratedmovies.dat', min_ratings=1000, end_date='1.1.2008')\n",
    "ap = AveragePredictor(100)\n",
    "rec = Recommender(ap)\n",
    "rec.fit(uim)\n",
    "\n",
    "uim_test = UserItemData('data/user_ratedmovies.dat', min_ratings=200, start_date='2.1.2008')\n",
    "mse, mae, precision, recall, f = rec.evaluate(uim_test, 20)\n",
    "print(mse, mae, precision, recall, f)"
   ]
  },
  {
   "cell_type": "code",
   "execution_count": 154,
   "metadata": {},
   "outputs": [
    {
     "name": "stdout",
     "output_type": "stream",
     "text": [
      "1168.0991006535573 1165.1587428774928 0.2482758620689658 0.19909433298718388 0.22098171805671937\n"
     ]
    }
   ],
   "source": [
    "md = MovieData('data/movies.dat')\n",
    "uim = UserItemData('data/user_ratedmovies.dat', min_ratings=1000, end_date='1.1.2008')\n",
    "vp = ViewsPredictor()\n",
    "rec = Recommender(vp)\n",
    "rec.fit(uim)\n",
    "\n",
    "uim_test = UserItemData('data/user_ratedmovies.dat', min_ratings=200, start_date='2.1.2008')\n",
    "mse, mae, precision, recall, f = rec.evaluate(uim_test, 20)\n",
    "print(mse, mae, precision, recall, f)"
   ]
  },
  {
   "cell_type": "code",
   "execution_count": 155,
   "metadata": {},
   "outputs": [
    {
     "name": "stdout",
     "output_type": "stream",
     "text": [
      "1.4235648373447818 1.1166475754104621 0.23156498673740075 0.18696818774820906 0.20689058146676728\n"
     ]
    }
   ],
   "source": [
    "md = MovieData('data/movies.dat')\n",
    "uim = UserItemData('data/user_ratedmovies.dat', min_ratings=1000, end_date='1.1.2008')\n",
    "rp = RandomPredictor(1,5)\n",
    "rec = Recommender(rp)\n",
    "rec.fit(uim)\n",
    "\n",
    "uim_test = UserItemData('data/user_ratedmovies.dat', min_ratings=200, start_date='2.1.2008')\n",
    "mse, mae, precision, recall, f = rec.evaluate(uim_test, 20)\n",
    "print(mse, mae, precision, recall, f)"
   ]
  },
  {
   "cell_type": "code",
   "execution_count": 156,
   "metadata": {},
   "outputs": [
    {
     "name": "stdout",
     "output_type": "stream",
     "text": [
      "1.002706421945923 0.6956271888135395 0.04885057471264362 0.08737780605136004 0.06266617893863602\n"
     ]
    }
   ],
   "source": [
    "md = MovieData('data/movies.dat')\n",
    "uim = UserItemData('data/user_ratedmovies.dat', min_ratings=1000, end_date='1.1.2008')\n",
    "ibp = ItemBasedPredictor()\n",
    "rec = Recommender(ibp)\n",
    "rec.fit(uim)\n",
    "\n",
    "uim_test = UserItemData('data/user_ratedmovies.dat', min_ratings=200, start_date='2.1.2008')\n",
    "mse, mae, precision, recall, f = rec.evaluate(uim_test, 20)\n",
    "print(mse, mae, precision, recall, f)"
   ]
  },
  {
   "attachments": {},
   "cell_type": "markdown",
   "metadata": {},
   "source": [
    "Najbolje deluje razred AveragePredictor, saj ima njvišje ocene/točke pri recall, f1 in precision. SlopeOnePredictor pa je zelo blizu za njim. Najslabši pa je bil RandomPredictor kot sem tudi pričakoval, saj si izmisli naključne predikcije."
   ]
  }
 ],
 "metadata": {
  "kernelspec": {
   "display_name": "Python 3",
   "language": "python",
   "name": "python3"
  },
  "language_info": {
   "codemirror_mode": {
    "name": "ipython",
    "version": 3
   },
   "file_extension": ".py",
   "mimetype": "text/x-python",
   "name": "python",
   "nbconvert_exporter": "python",
   "pygments_lexer": "ipython3",
   "version": "3.10.7 (tags/v3.10.7:6cc6b13, Sep  5 2022, 14:08:36) [MSC v.1933 64 bit (AMD64)]"
  },
  "orig_nbformat": 4,
  "vscode": {
   "interpreter": {
    "hash": "0cf40499047ac89b49562712a64ea6acf8c6f012e163f0f426c12ed68eaabd48"
   }
  }
 },
 "nbformat": 4,
 "nbformat_minor": 2
}
